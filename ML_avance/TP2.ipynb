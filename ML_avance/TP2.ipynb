{
 "cells": [
  {
   "cell_type": "code",
   "execution_count": 1,
   "id": "0d6e3870",
   "metadata": {},
   "outputs": [],
   "source": [
    "import numpy as np\n",
    "import pandas as pd\n",
    "import matplotlib.pyplot as plt\n",
    "import cvxpy as cvx\n",
    "import time\n",
    "n = 200 # number of examples (you can try with n = 1000 and n = 5000)\n",
    "p = 2*n # dimensionality of the problem\n",
    "k = 5 # number of active variables\n",
    "np.random.seed(0)\n",
    "X = np.random.randn(n,p) # creating features and normalizing them\n",
    "X = (X - np.mean(X,axis = 0))/np.std(X,axis = 0)\n",
    "t = np.arange(0,p)/(p-1); # bulding the variance matrix !\n",
    "S = np.zeros((p,p))\n",
    "nn = 0.00001\n",
    "for i in range(p):\n",
    "   S[i,:] = np.exp(-(t-t[i])**2/nn) # Une matrice de similarie . Elle permet de mesurer la distance entre t[i] et t[j]\n",
    "X = X@(S**.5)\n",
    "X = X/np.linalg.norm(X,axis=0)\n",
    "ind = np.random.choice(p, k, replace=False) # generating optimal weights\n",
    "weights = np.random.randn(k)\n",
    "weights += 0.1+np.sign(weights) # to get large enough weight\n",
    "wopt = np.zeros(p)\n",
    "wopt[ind] = weights\n",
    "rsnr = 2 # generating output by X@w + noise\n",
    "z = X[:,ind]@weights\n",
    "stdnoise = np.std(z)/rsnr\n",
    "y = z + stdnoise*np.random.randn(n)"
   ]
  },
  {
   "cell_type": "code",
   "execution_count": 2,
   "id": "9573ffb2",
   "metadata": {},
   "outputs": [],
   "source": [
    "# Verification\n",
    "for j in range(p):\n",
    "    if np.abs(np.sum(X[:,j]**2)-1 ) >1e-5:\n",
    "        print(\"Not correct\")"
   ]
  }
 ],
 "metadata": {
  "kernelspec": {
   "display_name": ".venv (3.12.3)",
   "language": "python",
   "name": "python3"
  },
  "language_info": {
   "codemirror_mode": {
    "name": "ipython",
    "version": 3
   },
   "file_extension": ".py",
   "mimetype": "text/x-python",
   "name": "python",
   "nbconvert_exporter": "python",
   "pygments_lexer": "ipython3",
   "version": "3.12.3"
  }
 },
 "nbformat": 4,
 "nbformat_minor": 5
}
