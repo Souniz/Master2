{
 "cells": [
  {
   "cell_type": "code",
   "execution_count": 47,
   "id": "62ee5b39",
   "metadata": {},
   "outputs": [],
   "source": [
    "import numpy as np\n",
    "import cv2 as cv\n",
    "import matplotlib.pyplot as plt"
   ]
  },
  {
   "cell_type": "code",
   "execution_count": 11,
   "id": "7c0d8a10",
   "metadata": {},
   "outputs": [],
   "source": [
    "image=cv.imread('myimage.jpg')\n",
    "img = cv.resize(image, (300, 200))\n",
    "img=cv.cvtColor(image, cv.COLOR_RGB2GRAY)"
   ]
  },
  {
   "cell_type": "code",
   "execution_count": 21,
   "id": "3ccc0393",
   "metadata": {},
   "outputs": [
    {
     "data": {
      "text/plain": [
       "array([[232, 236, 236, ..., 222, 223, 223],\n",
       "       [232, 233, 234, ..., 223, 224, 224],\n",
       "       [230, 231, 230, ..., 224, 224, 224],\n",
       "       ...,\n",
       "       [ 88,  90,  51, ...,   3,   1,   1],\n",
       "       [ 73,  75,  85, ...,   3,   1,   1],\n",
       "       [ 90,  74,  52, ...,   2,   1,   3]],\n",
       "      shape=(847, 1280), dtype=uint8)"
      ]
     },
     "execution_count": 21,
     "metadata": {},
     "output_type": "execute_result"
    }
   ],
   "source": [
    "img"
   ]
  },
  {
   "cell_type": "code",
   "execution_count": 24,
   "id": "a5fb5964",
   "metadata": {},
   "outputs": [
    {
     "data": {
      "text/plain": [
       "array([[232, 233, 234, ..., 223, 224, 224],\n",
       "       [230, 231, 230, ..., 224, 224, 224]], shape=(2, 1280), dtype=uint8)"
      ]
     },
     "execution_count": 24,
     "metadata": {},
     "output_type": "execute_result"
    }
   ],
   "source": [
    "img[[1,2]]"
   ]
  },
  {
   "cell_type": "code",
   "execution_count": 31,
   "id": "37202057",
   "metadata": {},
   "outputs": [
    {
     "data": {
      "text/plain": [
       "array([[232, 236, 236, ..., 222, 223, 223],\n",
       "       [232, 233, 234, ..., 223, 224, 224],\n",
       "       [230, 231, 230, ..., 224, 224, 224],\n",
       "       ...,\n",
       "       [ 88,  90,  51, ...,   3,   1,   1],\n",
       "       [ 73,  75,  85, ...,   3,   1,   1],\n",
       "       [ 90,  74,  52, ...,   2,   1,   3]],\n",
       "      shape=(847, 1280), dtype=uint8)"
      ]
     },
     "execution_count": 31,
     "metadata": {},
     "output_type": "execute_result"
    }
   ],
   "source": [
    "img"
   ]
  },
  {
   "cell_type": "code",
   "execution_count": 64,
   "id": "4dd6c0eb",
   "metadata": {},
   "outputs": [],
   "source": [
    "def voisinage_3(image,p):\n",
    "    lign=range(p[0]-1,p[0]+2)\n",
    "    col=range(p[1]-1,p[1]+2)\n",
    "    return [(lign[k],col[k]) for k in range(len(lign))]"
   ]
  },
  {
   "cell_type": "code",
   "execution_count": 65,
   "id": "3752c7d3",
   "metadata": {},
   "outputs": [
    {
     "data": {
      "text/plain": [
       "[(0, 0), (1, 1), (2, 2)]"
      ]
     },
     "execution_count": 65,
     "metadata": {},
     "output_type": "execute_result"
    }
   ],
   "source": [
    "voisinage_3(1,(1,1))"
   ]
  },
  {
   "cell_type": "code",
   "execution_count": 55,
   "id": "c62e8173",
   "metadata": {},
   "outputs": [
    {
     "data": {
      "text/plain": [
       "array([232, 236, 236, 232, 233, 234, 230, 231, 230], dtype=uint8)"
      ]
     },
     "execution_count": 55,
     "metadata": {},
     "output_type": "execute_result"
    }
   ],
   "source": [
    "voisinage_3(img,(1,1))"
   ]
  },
  {
   "cell_type": "code",
   "execution_count": 51,
   "id": "8874faf4",
   "metadata": {},
   "outputs": [],
   "source": [
    "def norme(p,q):\n",
    "   return  np.sqrt((p[0]-q[0])**2 +(p[1]-q[1])**2)"
   ]
  },
  {
   "cell_type": "code",
   "execution_count": 60,
   "id": "60c6656f",
   "metadata": {},
   "outputs": [],
   "source": [
    "def G_fonction(x,sigma):\n",
    "    return  (1/(np.sqrt(2*np.pi))*sigma)*np.exp(-x**2/(2*(sigma**2)))"
   ]
  },
  {
   "cell_type": "code",
   "execution_count": 61,
   "id": "0300acee",
   "metadata": {},
   "outputs": [
    {
     "data": {
      "text/plain": [
       "np.float64(0.004713869632661166)"
      ]
     },
     "execution_count": 61,
     "metadata": {},
     "output_type": "execute_result"
    }
   ],
   "source": [
    "G_fonction(2,0.7)"
   ]
  },
  {
   "cell_type": "code",
   "execution_count": null,
   "id": "b7545cc2",
   "metadata": {},
   "outputs": [],
   "source": [
    "def bilateral_filter(image,s,sigma):\n",
    "     for i in range(img.shape[0]):\n",
    "         for j in range(img.shape[0]):\n",
    "            voisin=voisinage_3(image,(i,j))\n",
    "            image[i,j]=np.sum([G_fonction(norme((i,j)))])\n",
    "\n"
   ]
  }
 ],
 "metadata": {
  "kernelspec": {
   "display_name": "myenv",
   "language": "python",
   "name": "python3"
  },
  "language_info": {
   "codemirror_mode": {
    "name": "ipython",
    "version": 3
   },
   "file_extension": ".py",
   "mimetype": "text/x-python",
   "name": "python",
   "nbconvert_exporter": "python",
   "pygments_lexer": "ipython3",
   "version": "3.12.3"
  }
 },
 "nbformat": 4,
 "nbformat_minor": 5
}
