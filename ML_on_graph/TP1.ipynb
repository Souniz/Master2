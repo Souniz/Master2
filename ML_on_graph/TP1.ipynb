{
 "cells": [
  {
   "cell_type": "code",
   "execution_count": 6,
   "id": "ef611ed0",
   "metadata": {},
   "outputs": [],
   "source": [
    "import numpy as np\n",
    "import networkx as nx"
   ]
  },
  {
   "cell_type": "code",
   "execution_count": 18,
   "id": "7ad570bb",
   "metadata": {},
   "outputs": [],
   "source": [
    "G=nx.MultiGraph()"
   ]
  },
  {
   "cell_type": "code",
   "execution_count": 22,
   "id": "e48d23a1",
   "metadata": {},
   "outputs": [],
   "source": [
    "villes=['REGENT PARK','kING CROSS','BAKERT STREET','BRITISH MUSEUM','PICADILLY CIRCUS','HID PARK','BUCKINGHAM PLACE','BIG BEN','WATERLOO','ELEPHANT CASTLE',\n",
    "       'THE CARTEHOUISE','ST PAULS','TOWER OF LONDON','BRICK LANE','COVENT GARDEN','GLOBE THEATRE','TRAFALGA SQUARE']\n",
    "\n",
    "for i in villes:\n",
    "    G.add_node(i)"
   ]
  },
  {
   "cell_type": "code",
   "execution_count": 23,
   "id": "6d9885d0",
   "metadata": {},
   "outputs": [
    {
     "data": {
      "text/plain": [
       "17"
      ]
     },
     "execution_count": 23,
     "metadata": {},
     "output_type": "execute_result"
    }
   ],
   "source": [
    "len(villes)"
   ]
  },
  {
   "cell_type": "code",
   "execution_count": null,
   "id": "5e39027f",
   "metadata": {},
   "outputs": [],
   "source": [
    "G.add_edge('REGENT PARK','kING CROSS',weight=3)\n",
    "G.add_edge('REGENT PARK','BAKERT STREET',weight=2)\n",
    "G.add_edge('REGENT PARK','BRITISH MUSEUM',weight=3)\n",
    "G.add_edge('BAKERT STREET','BRITISH MUSEUM',weight=4)\n",
    "G.add_edge('BAKERT STREET','PICADILLY CIRCUS',weight=4)\n",
    "G.add_edge('BAKERT STREET','HID PARK',weight=4)\n",
    "G.add_edge('PICADILLY CIRCUS','HID PARK',weight=2)\n",
    "G.add_edge('PICADILLY CIRCUS','BRITISH MUSEUM',weight=2)\n",
    "G.add_edge('PICADILLY CIRCUS','TRAFALGA SQUARE',weight=1)\n",
    "G.add_edge('PICADILLY CIRCUS','BUCKINGHAM PLACE',weight=2)\n",
    "G.add_edge('PICADILLY CIRCUS','COVENT GARDEN',weight=1)\n",
    "G.add_edge('HID PARK','BUCKINGHAM PLACE',weight=1)\n",
    "G.add_edge('BUCKINGHAM PLACE','BIG BEN',weight=2)\n",
    "G.add_edge('BIG BEN','TRAFALGA SQUARE',weight=1)\n",
    "G.add_edge('BIG BEN','WATERLOO',weight=1)\n",
    "G.add_edge('BIG BEN','ELEPHANT CASTLE',weight=2)\n",
    "G.add_edge('WATERLOO','GLOBE THEATRE',weight=2)\n",
    "G.add_edge('WATERLOO','TRAFALGA SQUARE',weight=2)\n",
    "G.add_edge('TRAFALGA SQUARE','COVENT GARDEN',weight=1)\n",
    "G.add_edge('TRAFALGA SQUARE','PICADILLY CIRCUS',weight=1)\n",
    "G.add_edge('COVENT GARDEN','TRAFALGA SQUARE',weight=1)\n",
    "G.add_edge('COVENT GARDEN','ST PAULS',weight=3)\n",
    "G.add_edge('COVENT GARDEN','BRITISH MUSEUM',weight=1)\n",
    "G.add_edge('COVENT GARDEN','PICADILLY CIRCUS',weight=1)"
   ]
  }
 ],
 "metadata": {
  "kernelspec": {
   "display_name": "myenv",
   "language": "python",
   "name": "python3"
  },
  "language_info": {
   "codemirror_mode": {
    "name": "ipython",
    "version": 3
   },
   "file_extension": ".py",
   "mimetype": "text/x-python",
   "name": "python",
   "nbconvert_exporter": "python",
   "pygments_lexer": "ipython3",
   "version": "3.12.3"
  }
 },
 "nbformat": 4,
 "nbformat_minor": 5
}
